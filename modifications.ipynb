{
 "cells": [
  {
   "cell_type": "code",
   "execution_count": 1,
   "metadata": {
    "collapsed": true
   },
   "outputs": [],
   "source": [
    "import pandas as pd"
   ]
  },
  {
   "cell_type": "code",
   "execution_count": 9,
   "metadata": {
    "collapsed": true
   },
   "outputs": [],
   "source": [
    "food_df=pd.read_csv(\"C:/Users/jakum/Documents/Quarter_6/d3js_projects/food comparator/food_final.csv\")"
   ]
  },
  {
   "cell_type": "code",
   "execution_count": 10,
   "metadata": {},
   "outputs": [
    {
     "data": {
      "text/plain": [
       "Index(['Description', 'Category', 'Alpha Carotene (mg)', 'Ash(mg)',\n",
       "       'Beta Carotene(mg)', 'Beta Cryptoxanthin(mg)', 'Calcium(mg)',\n",
       "       'Carbohydrate(mg)', 'Cholesterol(mg)', 'Choline(mg)', 'Copper(mg)',\n",
       "       'Fiber(mg)', 'Iron(mg)', 'Kilocalories-Energy(kcal)',\n",
       "       'Lutein and Zeaxanthin(mg)', 'Lycopene(mg)', 'Magnesium(mg)',\n",
       "       'Manganese(mg)', 'Monosaturated Fat(mg)', 'Niacin(mg)',\n",
       "       'Nutrient Data Bank Number(unique ID)',\n",
       "       'Pantothenic Acid -Vitamin B5(mg)', 'Phosphorus(mg)',\n",
       "       'Polysaturated Fat(mg)', 'Potassium(mg)', 'Protein(mg)',\n",
       "       'Refuse Percentage(percentage)', 'Retinol(mg)', 'Riboflavin(mg)',\n",
       "       'Saturated Fat(mg)', 'Selenium(mg)', 'Sodium(mg)', 'Sugar Total(mg)',\n",
       "       'Thiamin(mg)', 'Total Lipid(mg)', 'Vitamin A - IU(International Units)',\n",
       "       'Vitamin A - RAE(mg)', 'Vitamin B12(mg)', 'Vitamin B6(mg)',\n",
       "       'Vitamin C(mg)', 'Vitamin E(mg)', 'Vitamin K(mg)', 'Water content(mg)',\n",
       "       'Zinc(mg)'],\n",
       "      dtype='object')"
      ]
     },
     "execution_count": 10,
     "metadata": {},
     "output_type": "execute_result"
    }
   ],
   "source": [
    "food_df.columns"
   ]
  },
  {
   "cell_type": "code",
   "execution_count": 12,
   "metadata": {},
   "outputs": [
    {
     "name": "stdout",
     "output_type": "stream",
     "text": [
      "0\n",
      "100000\n"
     ]
    }
   ],
   "source": [
    "max=food_df['Carbohydrate(mg)'].max()\n",
    "min=food_df['Carbohydrate(mg)'].min()\n",
    "print(min)\n",
    "print(max)"
   ]
  },
  {
   "cell_type": "code",
   "execution_count": 13,
   "metadata": {},
   "outputs": [
    {
     "name": "stdout",
     "output_type": "stream",
     "text": [
      "0.0\n",
      "79000.0\n"
     ]
    }
   ],
   "source": [
    "max=food_df['Fiber(mg)'].max()\n",
    "min=food_df['Fiber(mg)'].min()\n",
    "print(min)\n",
    "print(max)"
   ]
  },
  {
   "cell_type": "code",
   "execution_count": 14,
   "metadata": {},
   "outputs": [
    {
     "name": "stdout",
     "output_type": "stream",
     "text": [
      "0.0\n",
      "99910.00366\n"
     ]
    }
   ],
   "source": [
    "max=food_df['Sugar Total(mg)'].max()\n",
    "min=food_df['Sugar Total(mg)'].min()\n",
    "print(min)\n",
    "print(max)"
   ]
  },
  {
   "cell_type": "code",
   "execution_count": 15,
   "metadata": {},
   "outputs": [
    {
     "name": "stdout",
     "output_type": "stream",
     "text": [
      "0\n",
      "781\n"
     ]
    }
   ],
   "source": [
    "max=food_df['Magnesium(mg)'].max()\n",
    "min=food_df['Magnesium(mg)'].min()\n",
    "print(min)\n",
    "print(max)"
   ]
  },
  {
   "cell_type": "code",
   "execution_count": 16,
   "metadata": {},
   "outputs": [
    {
     "name": "stdout",
     "output_type": "stream",
     "text": [
      "0.0\n",
      "46.26\n"
     ]
    }
   ],
   "source": [
    "max=food_df['Lycopene(mg)'].max()\n",
    "min=food_df['Lycopene(mg)'].min()\n",
    "print(min)\n",
    "print(max)"
   ]
  },
  {
   "cell_type": "code",
   "execution_count": 4,
   "metadata": {
    "collapsed": true
   },
   "outputs": [],
   "source": [
    "#food_df['Alpha Carotene (mcg)']=food_df['Alpha Carotene (mcg)'].div(1000)"
   ]
  },
  {
   "cell_type": "code",
   "execution_count": 5,
   "metadata": {
    "collapsed": true
   },
   "outputs": [],
   "source": [
    "#food_df['Ash(g)']=food_df['Ash(g)'].mul(1000)"
   ]
  },
  {
   "cell_type": "code",
   "execution_count": 7,
   "metadata": {
    "collapsed": true
   },
   "outputs": [],
   "source": [
    "#food_df['Beta Carotene(mcg)']=food_df['Beta Carotene(mcg)'].div(1000)"
   ]
  },
  {
   "cell_type": "code",
   "execution_count": 8,
   "metadata": {
    "collapsed": true
   },
   "outputs": [],
   "source": [
    "#food_df['Beta Cryptoxanthin(mcg)']=food_df['Beta Cryptoxanthin(mcg)'].div(1000)"
   ]
  },
  {
   "cell_type": "code",
   "execution_count": 9,
   "metadata": {
    "collapsed": true
   },
   "outputs": [],
   "source": [
    "#food_df['Carbohydrate(g)']=food_df['Carbohydrate(g)'].mul(1000)"
   ]
  },
  {
   "cell_type": "code",
   "execution_count": 10,
   "metadata": {
    "collapsed": true
   },
   "outputs": [],
   "source": [
    "#food_df['Fiber(g)']=food_df['Fiber(g)'].mul(1000)"
   ]
  },
  {
   "cell_type": "code",
   "execution_count": 11,
   "metadata": {
    "collapsed": true
   },
   "outputs": [],
   "source": [
    "#food_df['Lutein and Zeaxanthin(mcg)']=food_df['Lutein and Zeaxanthin(mcg)'].div(1000)"
   ]
  },
  {
   "cell_type": "code",
   "execution_count": 12,
   "metadata": {
    "collapsed": true
   },
   "outputs": [],
   "source": [
    "#food_df['Lycopene(mcg)']=food_df['Lycopene(mcg)'].div(1000)"
   ]
  },
  {
   "cell_type": "code",
   "execution_count": 13,
   "metadata": {
    "collapsed": true
   },
   "outputs": [],
   "source": [
    "#food_df['Monosaturated Fat(g)']=food_df['Monosaturated Fat(g)'].mul(1000)"
   ]
  },
  {
   "cell_type": "code",
   "execution_count": 14,
   "metadata": {
    "collapsed": true
   },
   "outputs": [],
   "source": [
    "#food_df['Polysaturated Fat(g)']=food_df['Polysaturated Fat(g)'].mul(1000)"
   ]
  },
  {
   "cell_type": "code",
   "execution_count": 15,
   "metadata": {
    "collapsed": true
   },
   "outputs": [],
   "source": [
    "#food_df['Protein(g)']=food_df['Protein(g)'].mul(1000)"
   ]
  },
  {
   "cell_type": "code",
   "execution_count": 16,
   "metadata": {
    "collapsed": true
   },
   "outputs": [],
   "source": [
    "#food_df['Retinol(mcg)']=food_df['Retinol(mcg)'].div(1000)"
   ]
  },
  {
   "cell_type": "code",
   "execution_count": 17,
   "metadata": {
    "collapsed": true
   },
   "outputs": [],
   "source": [
    "#food_df['Saturated Fat(g)']=food_df['Saturated Fat(g)'].mul(1000)"
   ]
  },
  {
   "cell_type": "code",
   "execution_count": 18,
   "metadata": {
    "collapsed": true
   },
   "outputs": [],
   "source": [
    "#food_df['Selenium(mcg)']=food_df['Selenium(mcg)'].div(1000)"
   ]
  },
  {
   "cell_type": "code",
   "execution_count": 19,
   "metadata": {
    "collapsed": true
   },
   "outputs": [],
   "source": [
    "#food_df['Sugar Total(g)']=food_df['Sugar Total(g)'].mul(1000)"
   ]
  },
  {
   "cell_type": "code",
   "execution_count": 20,
   "metadata": {
    "collapsed": true
   },
   "outputs": [],
   "source": [
    "#food_df['Total Lipid(g)']=food_df['Total Lipid(g)'].mul(1000)"
   ]
  },
  {
   "cell_type": "code",
   "execution_count": 21,
   "metadata": {
    "collapsed": true
   },
   "outputs": [],
   "source": [
    "#food_df['Vitamin A - RAE(mcg)']=food_df['Vitamin A - RAE(mcg)'].div(1000)"
   ]
  },
  {
   "cell_type": "code",
   "execution_count": 22,
   "metadata": {
    "collapsed": true
   },
   "outputs": [],
   "source": [
    "#food_df['Vitamin B12(mcg)']=food_df['Vitamin B12(mcg)'].div(1000)"
   ]
  },
  {
   "cell_type": "code",
   "execution_count": 23,
   "metadata": {
    "collapsed": true
   },
   "outputs": [],
   "source": [
    "#food_df['Vitamin K(mcg)']=food_df['Vitamin K(mcg)'].div(1000)"
   ]
  },
  {
   "cell_type": "code",
   "execution_count": 24,
   "metadata": {
    "collapsed": true
   },
   "outputs": [],
   "source": [
    "#food_df['Water content(g)']=food_df['Water content(g)'].mul(1000)"
   ]
  },
  {
   "cell_type": "code",
   "execution_count": 25,
   "metadata": {
    "collapsed": true
   },
   "outputs": [],
   "source": [
    "#food_df['Alpha Carotene (mcg)']=food_df['Alpha Carotene (mcg)'].div(1000)"
   ]
  },
  {
   "cell_type": "code",
   "execution_count": 26,
   "metadata": {
    "collapsed": true
   },
   "outputs": [],
   "source": [
    "#food_df.to_csv(\"C:/Users/jakum/Documents/Quarter_6/d3js_projects/food comparator/food_final.csv\")"
   ]
  },
  {
   "cell_type": "code",
   "execution_count": null,
   "metadata": {
    "collapsed": true
   },
   "outputs": [],
   "source": []
  }
 ],
 "metadata": {
  "anaconda-cloud": {},
  "kernelspec": {
   "display_name": "Python [conda root]",
   "language": "python",
   "name": "conda-root-py"
  },
  "language_info": {
   "codemirror_mode": {
    "name": "ipython",
    "version": 3
   },
   "file_extension": ".py",
   "mimetype": "text/x-python",
   "name": "python",
   "nbconvert_exporter": "python",
   "pygments_lexer": "ipython3",
   "version": "3.5.3"
  }
 },
 "nbformat": 4,
 "nbformat_minor": 2
}
